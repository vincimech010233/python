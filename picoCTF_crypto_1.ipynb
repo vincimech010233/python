{
  "nbformat": 4,
  "nbformat_minor": 0,
  "metadata": {
    "colab": {
      "provenance": [],
      "authorship_tag": "ABX9TyOucud5Wm6uwRwoTuwdQlt5",
      "include_colab_link": true
    },
    "kernelspec": {
      "name": "python3",
      "display_name": "Python 3"
    },
    "language_info": {
      "name": "python"
    }
  },
  "cells": [
    {
      "cell_type": "markdown",
      "metadata": {
        "id": "view-in-github",
        "colab_type": "text"
      },
      "source": [
        "<a href=\"https://colab.research.google.com/github/vincimech010233/python/blob/master/picoCTF_crypto_1.ipynb\" target=\"_parent\"><img src=\"https://colab.research.google.com/assets/colab-badge.svg\" alt=\"Open In Colab\"/></a>"
      ]
    },
    {
      "cell_type": "code",
      "source": [
        "# Mod 26\n",
        "\n",
        "# Mensaje cifrado\n",
        "mensaje_cifrado = \"cvpbPGS{arkg_gvzr_V'yy_gel_2_ebhaqf_bs_ebg13_uJdSftmh}\"\n",
        "\n",
        "# Función para descifrar ROT13\n",
        "def descifrar_rot13(texto):\n",
        "    texto_descifrado = \"\"\n",
        "    for char in texto:\n",
        "        if char.isalpha():\n",
        "            offset = 13 if char.islower() else -13\n",
        "            texto_descifrado += chr((ord(char) - ord('a' if char.islower() else 'A') + offset) % 26 + ord('a' if char.islower() else 'A'))\n",
        "        else:\n",
        "            texto_descifrado += char\n",
        "    return texto_descifrado\n",
        "\n",
        "# Descifrar el mensaje cifrado\n",
        "mensaje_descifrado = descifrar_rot13(mensaje_cifrado)\n",
        "\n",
        "# Imprimir el mensaje descifrado\n",
        "print(\"Mensaje descifrado:\", mensaje_descifrado)"
      ],
      "metadata": {
        "colab": {
          "base_uri": "https://localhost:8080/"
        },
        "id": "xfLaZqAalHbp",
        "outputId": "a6ca0421-f7a8-4917-d6d1-c7eb6e250097"
      },
      "execution_count": 25,
      "outputs": [
        {
          "output_type": "stream",
          "name": "stdout",
          "text": [
            "Mensaje descifrado: picoCTF{next_time_I'll_try_2_rounds_of_rot13_hWqFsgzu}\n"
          ]
        }
      ]
    },
    {
      "cell_type": "code",
      "source": [
        "# Mind your Ps and Qs\n",
        "\n",
        "import requests\n",
        "\n",
        "# URL del archivo a descargar\n",
        "url = \"https://mercury.picoctf.net/static/bf5e2c8811afb4669f4a6850e097e8aa/values\"\n",
        "\n",
        "# Nombre de archivo local donde se guardará el archivo descargado\n",
        "nombre_archivo = \"valores.txt\"\n",
        "\n",
        "# Realizar la solicitud GET para descargar el archivo\n",
        "response = requests.get(url)\n",
        "\n",
        "# Verificar si la solicitud fue exitosa\n",
        "if response.status_code == 200:\n",
        "    # Guardar el contenido del archivo en un archivo local\n",
        "    with open(nombre_archivo, 'wb') as file:\n",
        "        file.write(response.content)\n",
        "    print(\"Descarga exitosa. El archivo se ha guardado como:\", nombre_archivo)\n",
        "else:\n",
        "    print(\"Error al descargar el archivo. Código de estado:\", response.status_code)"
      ],
      "metadata": {
        "colab": {
          "base_uri": "https://localhost:8080/"
        },
        "id": "7IKuZpdfmMEB",
        "outputId": "aad9e584-2290-4b73-bf9a-5bad54bca9fc"
      },
      "execution_count": 26,
      "outputs": [
        {
          "output_type": "stream",
          "name": "stdout",
          "text": [
            "Descarga exitosa. El archivo se ha guardado como: valores.txt\n"
          ]
        }
      ]
    },
    {
      "cell_type": "code",
      "source": [
        "!cat valores.txt"
      ],
      "metadata": {
        "colab": {
          "base_uri": "https://localhost:8080/"
        },
        "id": "zJNSsykUmlLZ",
        "outputId": "9c9a1824-18c1-4e8c-b49e-713ca36b4734"
      },
      "execution_count": 28,
      "outputs": [
        {
          "output_type": "stream",
          "name": "stdout",
          "text": [
            "Decrypt my super sick RSA:\n",
            "c: 421345306292040663864066688931456845278496274597031632020995583473619804626233684\n",
            "n: 631371953793368771804570727896887140714495090919073481680274581226742748040342637\n",
            "e: 65537"
          ]
        }
      ]
    },
    {
      "cell_type": "code",
      "source": [
        "\"\"\"\n",
        "C = ciphertext\n",
        "p and q = prime numbers\n",
        "n = p * q\n",
        "phi = (p-1) * (q-1)\n",
        "e = some number that 1 < e < phi and gcd(e,phi) == 1\n",
        "d = e^(-1) mod phi\n",
        "\"\"\"\n",
        "\n",
        "\"\"\"\n",
        "Use factordb con n\n",
        "n = 1461849912200000206276283741896701133693 * 431899300006243611356963607089521499045809\n",
        "p = 1461849912200000206276283741896701133693\n",
        "q = 431899300006243611356963607089521499045809\n",
        "\"\"\"\n",
        "\n",
        "\n",
        "from Crypto.Util.number import inverse, long_to_bytes\n",
        "\n",
        "c = 421345306292040663864066688931456845278496274597031632020995583473619804626233684\n",
        "n = 631371953793368771804570727896887140714495090919073481680274581226742748040342637\n",
        "e = 65537\n",
        "p = 1461849912200000206276283741896701133693\n",
        "q = 431899300006243611356963607089521499045809\n",
        "\n",
        "phi = (p-1)*(q-1)\n",
        "\n",
        "d = inverse(e, phi)\n",
        "\n",
        "m = pow(c,d,n)\n",
        "\n",
        "print(long_to_bytes(m))"
      ],
      "metadata": {
        "colab": {
          "base_uri": "https://localhost:8080/"
        },
        "id": "bcdrkbj5nEyZ",
        "outputId": "7d7c8038-254c-441f-88ec-1e46e4aac112"
      },
      "execution_count": 30,
      "outputs": [
        {
          "output_type": "stream",
          "name": "stdout",
          "text": [
            "b'picoCTF{sma11_N_n0_g0od_55304594}'\n"
          ]
        }
      ]
    }
  ]
}