{
  "cells": [
    {
      "cell_type": "markdown",
      "metadata": {
        "id": "view-in-github",
        "colab_type": "text"
      },
      "source": [
        "<a href=\"https://colab.research.google.com/github/vincimech010233/python/blob/master/DebugColab.ipynb\" target=\"_parent\"><img src=\"https://colab.research.google.com/assets/colab-badge.svg\" alt=\"Open In Colab\"/></a>"
      ]
    },
    {
      "cell_type": "code",
      "execution_count": null,
      "metadata": {
        "id": "ASpQPzMUDUdp"
      },
      "outputs": [],
      "source": [
        "!pip install ipdb"
      ]
    },
    {
      "cell_type": "code",
      "execution_count": null,
      "metadata": {
        "colab": {
          "background_save": true
        },
        "id": "hnrdydOcDWLj"
      },
      "outputs": [],
      "source": [
        "# Importa ipdb\n",
        "import ipdb\n",
        "\n",
        "# Definir una función con código para depurar\n",
        "def some_function():\n",
        "    a = 5\n",
        "    b = 10\n",
        "    result = a + b\n",
        "\n",
        "    # Colocar un punto de interrupción usando ipdb\n",
        "    ipdb.set_trace()\n",
        "\n",
        "    c = result * 2\n",
        "    return c\n",
        "\n",
        "# Llamar a la función que deseas depurar\n",
        "result = some_function()\n",
        "\n",
        "# Cuando llegues al punto de interrupción, puedes usar comandos como 'n' para avanzar a la siguiente línea, 'c' para continuar la ejecución, 'p variable' para imprimir el valor de una variable, etc.\n"
      ]
    }
  ],
  "metadata": {
    "colab": {
      "provenance": [],
      "authorship_tag": "ABX9TyMmfQ+77ZubyLMijc3J+Uaj",
      "include_colab_link": true
    },
    "kernelspec": {
      "display_name": "Python 3",
      "name": "python3"
    },
    "language_info": {
      "name": "python"
    }
  },
  "nbformat": 4,
  "nbformat_minor": 0
}