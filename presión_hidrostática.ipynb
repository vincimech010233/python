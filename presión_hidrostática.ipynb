{
  "nbformat": 4,
  "nbformat_minor": 0,
  "metadata": {
    "colab": {
      "provenance": [],
      "authorship_tag": "ABX9TyOtwYKMawYJAczZDwZrD4q2",
      "include_colab_link": true
    },
    "kernelspec": {
      "name": "python3",
      "display_name": "Python 3"
    },
    "language_info": {
      "name": "python"
    }
  },
  "cells": [
    {
      "cell_type": "markdown",
      "metadata": {
        "id": "view-in-github",
        "colab_type": "text"
      },
      "source": [
        "<a href=\"https://colab.research.google.com/github/vincimech010233/python/blob/master/presi%C3%B3n_hidrost%C3%A1tica.ipynb\" target=\"_parent\"><img src=\"https://colab.research.google.com/assets/colab-badge.svg\" alt=\"Open In Colab\"/></a>"
      ]
    },
    {
      "cell_type": "code",
      "execution_count": 2,
      "metadata": {
        "colab": {
          "base_uri": "https://localhost:8080/"
        },
        "id": "mOFWraBY2Oq4",
        "outputId": "0f709470-0af4-4edd-a2f4-39605ac9d612"
      },
      "outputs": [
        {
          "output_type": "stream",
          "name": "stdout",
          "text": [
            "La presión hidrostática a 5 metros de profundidad es: 49050.0 Pascals\n"
          ]
        }
      ],
      "source": [
        "# Definir la densidad del agua en kg/m^3 y la gravedad en m/s^2\n",
        "densidad_agua = 1000  # densidad del agua\n",
        "gravedad = 9.81  # aceleración debido a la gravedad\n",
        "\n",
        "# Función lambda para calcular la presión hidrostática\n",
        "presion_hidrostatica = lambda h: densidad_agua * gravedad * h\n",
        "\n",
        "# Calcular la presión a 5 metros de profundidad\n",
        "presion_a_5m = presion_hidrostatica(5)  # h = 5 metros\n",
        "print(f'La presión hidrostática a 5 metros de profundidad es: {presion_a_5m} Pascals')\n"
      ]
    }
  ]
}