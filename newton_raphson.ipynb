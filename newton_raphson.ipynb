{
  "nbformat": 4,
  "nbformat_minor": 0,
  "metadata": {
    "colab": {
      "provenance": [],
      "authorship_tag": "ABX9TyPPJUaldS41iM5oGV+gqao+",
      "include_colab_link": true
    },
    "kernelspec": {
      "name": "python3",
      "display_name": "Python 3"
    },
    "language_info": {
      "name": "python"
    }
  },
  "cells": [
    {
      "cell_type": "markdown",
      "metadata": {
        "id": "view-in-github",
        "colab_type": "text"
      },
      "source": [
        "<a href=\"https://colab.research.google.com/github/vincimech010233/python/blob/master/newton_raphson.ipynb\" target=\"_parent\"><img src=\"https://colab.research.google.com/assets/colab-badge.svg\" alt=\"Open In Colab\"/></a>"
      ]
    },
    {
      "cell_type": "code",
      "execution_count": 1,
      "metadata": {
        "colab": {
          "base_uri": "https://localhost:8080/"
        },
        "id": "tmjJV2fdxclV",
        "outputId": "f8346fcd-a2bc-4080-e49c-922c04d5ec9d"
      },
      "outputs": [
        {
          "output_type": "stream",
          "name": "stdout",
          "text": [
            "Root: 2.000000000000002\n"
          ]
        }
      ],
      "source": [
        "def newton_raphson(func, deriv, initial_guess, tolerance=1e-6, max_iterations=100):\n",
        "    x = initial_guess\n",
        "    for _ in range(max_iterations):\n",
        "        x_new = x - func(x) / deriv(x)\n",
        "        if abs(x_new - x) < tolerance:\n",
        "            return x_new\n",
        "        x = x_new\n",
        "    return x\n",
        "\n",
        "# Ejemplo de función y su derivada\n",
        "func = lambda x: x**2 - 4\n",
        "deriv = lambda x: 2*x\n",
        "\n",
        "# Encontrar la raíz cerca de 1\n",
        "root = newton_raphson(func, deriv, 1)\n",
        "print(\"Root:\", root)\n"
      ]
    }
  ]
}