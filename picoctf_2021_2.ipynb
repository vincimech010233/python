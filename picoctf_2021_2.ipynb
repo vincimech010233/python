{
  "nbformat": 4,
  "nbformat_minor": 0,
  "metadata": {
    "colab": {
      "provenance": [],
      "authorship_tag": "ABX9TyORmyB73Scu40jnLKoOrHC9",
      "include_colab_link": true
    },
    "kernelspec": {
      "name": "python3",
      "display_name": "Python 3"
    },
    "language_info": {
      "name": "python"
    }
  },
  "cells": [
    {
      "cell_type": "markdown",
      "metadata": {
        "id": "view-in-github",
        "colab_type": "text"
      },
      "source": [
        "<a href=\"https://colab.research.google.com/github/vincimech010233/python/blob/master/picoctf_2021_2.ipynb\" target=\"_parent\"><img src=\"https://colab.research.google.com/assets/colab-badge.svg\" alt=\"Open In Colab\"/></a>"
      ]
    },
    {
      "cell_type": "code",
      "execution_count": null,
      "metadata": {
        "id": "doKTeX2r_bq9"
      },
      "outputs": [],
      "source": [
        "!wget -O ende.py https://mercury.picoctf.net/static/2ac2139344d2e734d5d638ac928f1a8d/ende.py\n",
        "!wget -O pw.txt https://mercury.picoctf.net/static/2ac2139344d2e734d5d638ac928f1a8d/pw.txt\n",
        "!wget -O flag.txt.en https://mercury.picoctf.net/static/2ac2139344d2e734d5d638ac928f1a8d/flag.txt.en"
      ]
    },
    {
      "cell_type": "code",
      "source": [
        "!ls\n",
        "!cat ende.py"
      ],
      "metadata": {
        "colab": {
          "base_uri": "https://localhost:8080/"
        },
        "id": "_4R3DUBp_-nY",
        "outputId": "981e79e6-37e9-4147-e746-e12e94e4869e"
      },
      "execution_count": null,
      "outputs": [
        {
          "output_type": "stream",
          "name": "stdout",
          "text": [
            "ende.py  flag.txt.en  pw.txt  sample_data\n",
            "\n",
            "import sys\n",
            "import base64\n",
            "from cryptography.fernet import Fernet\n",
            "\n",
            "\n",
            "\n",
            "usage_msg = \"Usage: \"+ sys.argv[0] +\" (-e/-d) [file]\"\n",
            "help_msg = usage_msg + \"\\n\" +\\\n",
            "        \"Examples:\\n\" +\\\n",
            "        \"  To decrypt a file named 'pole.txt', do: \" +\\\n",
            "        \"'$ python \"+ sys.argv[0] +\" -d pole.txt'\\n\"\n",
            "\n",
            "\n",
            "\n",
            "if len(sys.argv) < 2 or len(sys.argv) > 4:\n",
            "    print(usage_msg)\n",
            "    sys.exit(1)\n",
            "\n",
            "\n",
            "\n",
            "if sys.argv[1] == \"-e\":\n",
            "    if len(sys.argv) < 4:\n",
            "        sim_sala_bim = input(\"Please enter the password:\")\n",
            "    else:\n",
            "        sim_sala_bim = sys.argv[3]\n",
            "\n",
            "    ssb_b64 = base64.b64encode(sim_sala_bim.encode())\n",
            "    c = Fernet(ssb_b64)\n",
            "\n",
            "    with open(sys.argv[2], \"rb\") as f:\n",
            "        data = f.read()\n",
            "        data_c = c.encrypt(data)\n",
            "        sys.stdout.write(data_c.decode())\n",
            "\n",
            "\n",
            "elif sys.argv[1] == \"-d\":\n",
            "    if len(sys.argv) < 4:\n",
            "        sim_sala_bim = input(\"Please enter the password:\")\n",
            "    else:\n",
            "        sim_sala_bim = sys.argv[3]\n",
            "\n",
            "    ssb_b64 = base64.b64encode(sim_sala_bim.encode())\n",
            "    c = Fernet(ssb_b64)\n",
            "\n",
            "    with open(sys.argv[2], \"r\") as f:\n",
            "        data = f.read()\n",
            "        data_c = c.decrypt(data.encode())\n",
            "        sys.stdout.buffer.write(data_c)\n",
            "\n",
            "\n",
            "elif sys.argv[1] == \"-h\" or sys.argv[1] == \"--help\":\n",
            "    print(help_msg)\n",
            "    sys.exit(1)\n",
            "\n",
            "\n",
            "else:\n",
            "    print(\"Unrecognized first argument: \"+ sys.argv[1])\n",
            "    print(\"Please use '-e', '-d', or '-h'.\")\n",
            "\n"
          ]
        }
      ]
    },
    {
      "cell_type": "code",
      "source": [
        "!cat flag.txt.en"
      ],
      "metadata": {
        "colab": {
          "base_uri": "https://localhost:8080/"
        },
        "id": "kwpaza8VAPbx",
        "outputId": "7bb21474-cff3-4401-f367-09742a0959fb"
      },
      "execution_count": null,
      "outputs": [
        {
          "output_type": "stream",
          "name": "stdout",
          "text": [
            "gAAAAABgUAIV8D5MJdzgLLTkkMlbU84ARVwfX4brMt2rJQCjkpLItytfWVZe1L2dp4K8VrKgRU3axStKJEAqcM0iDaxiYE54Boh8UfAAo1RNifKnlDrFz0gLaznVSFVj2xAUa4V3518068f88f9368f88f9368f88f9368f88f93\n"
          ]
        }
      ]
    },
    {
      "cell_type": "code",
      "source": [
        "!cat pw.txt"
      ],
      "metadata": {
        "colab": {
          "base_uri": "https://localhost:8080/"
        },
        "id": "KY4FkihlAevu",
        "outputId": "01e6c1ac-aaf8-4cd6-e4d7-df78cc3289b7"
      },
      "execution_count": null,
      "outputs": [
        {
          "output_type": "stream",
          "name": "stdout",
          "text": [
            "68f88f9368f88f9368f88f9368f88f93\n"
          ]
        }
      ]
    },
    {
      "cell_type": "code",
      "source": [
        "!python3 ende.py -d flag.txt.en"
      ],
      "metadata": {
        "colab": {
          "base_uri": "https://localhost:8080/"
        },
        "id": "A1D0kIzWA2RQ",
        "outputId": "68ea74c7-8b96-4e0c-baf2-65a7777f4623"
      },
      "execution_count": null,
      "outputs": [
        {
          "output_type": "stream",
          "name": "stdout",
          "text": [
            "Please enter the password:68f88f9368f88f9368f88f9368f88f93\n",
            "picoCTF{4p0110_1n_7h3_h0us3_68f88f93}\n"
          ]
        }
      ]
    },
    {
      "cell_type": "code",
      "source": [
        "!wget -O warm https://mercury.picoctf.net/static/fc1d77192c544314efece5dd309092e3/warm"
      ],
      "metadata": {
        "colab": {
          "base_uri": "https://localhost:8080/"
        },
        "id": "qFC0W_h2Bj2h",
        "outputId": "3a033061-02f6-457d-c304-ba35426ceb7c"
      },
      "execution_count": null,
      "outputs": [
        {
          "output_type": "stream",
          "name": "stdout",
          "text": [
            "--2024-04-07 14:46:20--  https://mercury.picoctf.net/static/fc1d77192c544314efece5dd309092e3/warm\n",
            "Resolving mercury.picoctf.net (mercury.picoctf.net)... 18.189.209.142\n",
            "Connecting to mercury.picoctf.net (mercury.picoctf.net)|18.189.209.142|:443... connected.\n",
            "HTTP request sent, awaiting response... 200 OK\n",
            "Length: 10936 (11K) [application/octet-stream]\n",
            "Saving to: ‘warm’\n",
            "\n",
            "\rwarm                  0%[                    ]       0  --.-KB/s               \rwarm                100%[===================>]  10.68K  --.-KB/s    in 0s      \n",
            "\n",
            "2024-04-07 14:46:20 (188 MB/s) - ‘warm’ saved [10936/10936]\n",
            "\n"
          ]
        }
      ]
    },
    {
      "cell_type": "code",
      "source": [
        "!strings warm"
      ],
      "metadata": {
        "colab": {
          "base_uri": "https://localhost:8080/"
        },
        "id": "i2h6ooIgBnew",
        "outputId": "4a03b433-c997-469e-fd9b-ef996182c97b"
      },
      "execution_count": null,
      "outputs": [
        {
          "output_type": "stream",
          "name": "stdout",
          "text": [
            "/lib64/ld-linux-x86-64.so.2\n",
            "Ti{l\n",
            "libc.so.6\n",
            "puts\n",
            "printf\n",
            "__cxa_finalize\n",
            "strcmp\n",
            "__libc_start_main\n",
            "GLIBC_2.2.5\n",
            "_ITM_deregisterTMCloneTable\n",
            "__gmon_start__\n",
            "_ITM_registerTMCloneTable\n",
            "=y\t \n",
            "=W\t \n",
            "=Z\t \n",
            "AWAVI\n",
            "AUATL\n",
            "[]A\\A]A^A_\n",
            "Hello user! Pass me a -h to learn what I can do!\n",
            "Oh, help? I actually don't do much, but I do have this flag here: picoCTF{b1scu1ts_4nd_gr4vy_6635aa47}\n",
            "I don't know what '%s' means! I do know what -h means though!\n",
            ";*3$\"\n",
            "GCC: (Ubuntu 7.5.0-3ubuntu1~18.04) 7.5.0\n",
            "/usr/lib/gcc/x86_64-linux-gnu/7/include\n",
            "/usr/include/x86_64-linux-gnu/bits\n",
            "/usr/include\n",
            "warm.c\n",
            "stddef.h\n",
            "types.h\n",
            "libio.h\n",
            "stdio.h\n",
            "sys_errlist.h\n",
            "_IO_buf_end\n",
            "_old_offset\n",
            "sys_nerr\n",
            "_IO_save_end\n",
            "short int\n",
            "size_t\n",
            "_IO_write_ptr\n",
            "_flags\n",
            "_IO_buf_base\n",
            "_markers\n",
            "_IO_read_end\n",
            "/opt/hacksports/shared/staging/Wave a flag_0_9988863924324850/problem_files\n",
            "stderr\n",
            "_lock\n",
            "long int\n",
            "_cur_column\n",
            "_IO_2_1_stderr_\n",
            "_IO_FILE_plus\n",
            "_pos\n",
            "argv\n",
            "_sbuf\n",
            "_IO_FILE\n",
            "unsigned char\n",
            "argc\n",
            "_IO_2_1_stdin_\n",
            "_IO_marker\n",
            "_shortbuf\n",
            "_IO_write_base\n",
            "_unused2\n",
            "_IO_read_ptr\n",
            "short unsigned int\n",
            "warm.c\n",
            "main\n",
            "_next\n",
            "__pad1\n",
            "__pad2\n",
            "__pad3\n",
            "__pad4\n",
            "__pad5\n",
            "long unsigned int\n",
            "_IO_write_end\n",
            "__off64_t\n",
            "__off_t\n",
            "_chain\n",
            "GNU C11 7.5.0 -mtune=generic -march=x86-64 -g -fstack-protector-strong\n",
            "_IO_backup_base\n",
            "stdin\n",
            "_flags2\n",
            "_mode\n",
            "_IO_read_base\n",
            "_vtable_offset\n",
            "_IO_save_base\n",
            "sys_errlist\n",
            "_fileno\n",
            "stdout\n",
            "_IO_2_1_stdout_\n",
            "_IO_lock_t\n",
            "crtstuff.c\n",
            "deregister_tm_clones\n",
            "__do_global_dtors_aux\n",
            "completed.7698\n",
            "__do_global_dtors_aux_fini_array_entry\n",
            "frame_dummy\n",
            "__frame_dummy_init_array_entry\n",
            "warm.c\n",
            "__FRAME_END__\n",
            "__init_array_end\n",
            "_DYNAMIC\n",
            "__init_array_start\n",
            "__GNU_EH_FRAME_HDR\n",
            "_GLOBAL_OFFSET_TABLE_\n",
            "__libc_csu_fini\n",
            "_ITM_deregisterTMCloneTable\n",
            "puts@@GLIBC_2.2.5\n",
            "_edata\n",
            "printf@@GLIBC_2.2.5\n",
            "__libc_start_main@@GLIBC_2.2.5\n",
            "__data_start\n",
            "strcmp@@GLIBC_2.2.5\n",
            "__gmon_start__\n",
            "__dso_handle\n",
            "_IO_stdin_used\n",
            "__libc_csu_init\n",
            "__bss_start\n",
            "main\n",
            "__TMC_END__\n",
            "_ITM_registerTMCloneTable\n",
            "__cxa_finalize@@GLIBC_2.2.5\n",
            ".symtab\n",
            ".strtab\n",
            ".shstrtab\n",
            ".interp\n",
            ".note.ABI-tag\n",
            ".note.gnu.build-id\n",
            ".gnu.hash\n",
            ".dynsym\n",
            ".dynstr\n",
            ".gnu.version\n",
            ".gnu.version_r\n",
            ".rela.dyn\n",
            ".rela.plt\n",
            ".init\n",
            ".plt.got\n",
            ".text\n",
            ".fini\n",
            ".rodata\n",
            ".eh_frame_hdr\n",
            ".eh_frame\n",
            ".init_array\n",
            ".fini_array\n",
            ".dynamic\n",
            ".data\n",
            ".bss\n",
            ".comment\n",
            ".debug_aranges\n",
            ".debug_info\n",
            ".debug_abbrev\n",
            ".debug_line\n",
            ".debug_str\n"
          ]
        }
      ]
    },
    {
      "cell_type": "code",
      "source": [
        "# Information\n",
        "\n",
        "# wget -O cat.jpg https://mercury.picoctf.net/static/fc1d77192c544314efece5dd309092e3/cat.jpg\n",
        "\n",
        "# exiftool cat.jpg -> encontramos una cadena base64 en license\n",
        "\n",
        "# echo -e \"string\" | base64 -d"
      ],
      "metadata": {
        "id": "RS7P2bLNCBCZ"
      },
      "execution_count": null,
      "outputs": []
    },
    {
      "cell_type": "code",
      "source": [
        "# Nice netcat...\n",
        "\n",
        "# nc mercury.picoctf.net 49039\n",
        "\n",
        "# cat flag.txt | tr -cd '[:print:]' | tr '[:lower:]' '[:upper:]'\n",
        "\n",
        "# cyberchef"
      ],
      "metadata": {
        "id": "7Sm2LazmE03k"
      },
      "execution_count": null,
      "outputs": []
    },
    {
      "cell_type": "code",
      "source": [
        "# Tab, Tab, Attack\n",
        "\n",
        "# unzip Addadshashanammu.zip\n",
        "\n",
        "# cd\n",
        "\n",
        "# file fang-of-haynekhtnamet\n",
        "\n",
        "# ./fang-of-haynekhtnamet"
      ],
      "metadata": {
        "id": "rzsE6Jc_InAN"
      },
      "execution_count": null,
      "outputs": []
    },
    {
      "cell_type": "code",
      "source": [],
      "metadata": {
        "id": "ZYiwu8llLzd1"
      },
      "execution_count": null,
      "outputs": []
    }
  ]
}