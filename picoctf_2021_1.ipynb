{
  "nbformat": 4,
  "nbformat_minor": 0,
  "metadata": {
    "colab": {
      "provenance": [],
      "authorship_tag": "ABX9TyNwqvqv7I8rWjyo+hzi46Ia",
      "include_colab_link": true
    },
    "kernelspec": {
      "name": "python3",
      "display_name": "Python 3"
    },
    "language_info": {
      "name": "python"
    }
  },
  "cells": [
    {
      "cell_type": "markdown",
      "metadata": {
        "id": "view-in-github",
        "colab_type": "text"
      },
      "source": [
        "<a href=\"https://colab.research.google.com/github/vincimech010233/python/blob/master/picoctf_2021_1.ipynb\" target=\"_parent\"><img src=\"https://colab.research.google.com/assets/colab-badge.svg\" alt=\"Open In Colab\"/></a>"
      ]
    },
    {
      "cell_type": "code",
      "execution_count": 2,
      "metadata": {
        "colab": {
          "base_uri": "https://localhost:8080/"
        },
        "id": "ddL0Xsvu1LRs",
        "outputId": "6fb0ec76-563e-4f4c-d1a1-f0702f8414f2"
      },
      "outputs": [
        {
          "output_type": "stream",
          "name": "stdout",
          "text": [
            "--2024-04-03 12:02:43--  https://mercury.picoctf.net/static/1d8a5a2779c4dc24999f0358d7a1a786/enc\n",
            "Resolving mercury.picoctf.net (mercury.picoctf.net)... 18.189.209.142\n",
            "Connecting to mercury.picoctf.net (mercury.picoctf.net)|18.189.209.142|:443... connected.\n",
            "HTTP request sent, awaiting response... 200 OK\n",
            "Length: 57 [application/octet-stream]\n",
            "Saving to: ‘enc’\n",
            "\n",
            "\renc                   0%[                    ]       0  --.-KB/s               \renc                 100%[===================>]      57  --.-KB/s    in 0s      \n",
            "\n",
            "2024-04-03 12:02:43 (37.5 MB/s) - ‘enc’ saved [57/57]\n",
            "\n",
            "灩捯䍔䙻ㄶ形楴獟楮獴㌴摟潦弸彥㜰㍢㐸㙽\n"
          ]
        }
      ],
      "source": [
        "# Transformation\n",
        "!wget -O enc https://mercury.picoctf.net/static/1d8a5a2779c4dc24999f0358d7a1a786/enc\n",
        "\n",
        "with open('enc', 'r') as file:\n",
        "    content = file.read()\n",
        "    print(content)"
      ]
    },
    {
      "cell_type": "code",
      "source": [
        "# Cadena codificada\n",
        "encoded_string = '灩捯䍔䙻ㄶ形楴獟楮獴㌴摟潦弸彥㜰㍢㐸㙽'\n",
        "\n",
        "# Decodificación\n",
        "print(encoded_string.encode('utf-16-be'))"
      ],
      "metadata": {
        "colab": {
          "base_uri": "https://localhost:8080/"
        },
        "id": "RUNK0rul1gl-",
        "outputId": "c6ad0cc4-2aac-47c1-e02a-012380b5b049"
      },
      "execution_count": 6,
      "outputs": [
        {
          "output_type": "stream",
          "name": "stdout",
          "text": [
            "b'picoCTF{16_bits_inst34d_of_8_e703b486}'\n"
          ]
        }
      ]
    },
    {
      "cell_type": "code",
      "source": [
        "# Obedient Cat\n",
        "\n",
        "!wget -O flag.txt https://mercury.picoctf.net/static/a5683698ac318b47bd060cb786859f23/flag\n",
        "!cat flag.txt"
      ],
      "metadata": {
        "colab": {
          "base_uri": "https://localhost:8080/"
        },
        "id": "C-COBTd25xcW",
        "outputId": "74f73195-72f3-4a71-c122-089f644fc883"
      },
      "execution_count": 19,
      "outputs": [
        {
          "output_type": "stream",
          "name": "stdout",
          "text": [
            "--2024-04-03 12:21:16--  https://mercury.picoctf.net/static/a5683698ac318b47bd060cb786859f23/flag\n",
            "Resolving mercury.picoctf.net (mercury.picoctf.net)... 18.189.209.142\n",
            "Connecting to mercury.picoctf.net (mercury.picoctf.net)|18.189.209.142|:443... connected.\n",
            "HTTP request sent, awaiting response... 200 OK\n",
            "Length: 34 [application/octet-stream]\n",
            "Saving to: ‘flag.txt’\n",
            "\n",
            "\rflag.txt              0%[                    ]       0  --.-KB/s               \rflag.txt            100%[===================>]      34  --.-KB/s    in 0s      \n",
            "\n",
            "2024-04-03 12:21:16 (19.6 MB/s) - ‘flag.txt’ saved [34/34]\n",
            "\n",
            "picoCTF{s4n1ty_v3r1f13d_4a2b35fd}\n"
          ]
        }
      ]
    },
    {
      "cell_type": "code",
      "source": [
        "# GET aHEAD\n",
        "\n",
        "import requests\n",
        "\n",
        "# URL del servidor\n",
        "url = \"http://mercury.picoctf.net:28916/\"\n",
        "\n",
        "# Enviar una solicitud GET al servidor\n",
        "response = requests.get(url)\n",
        "\n",
        "# Verificar si la solicitud fue exitosa (código de estado 200)\n",
        "if response.status_code == 200:\n",
        "    # Imprimir el contenido de la respuesta\n",
        "    print(response.text)\n",
        "else:\n",
        "    print(\"Error al conectarse al servidor:\", response.status_code, response.reason)\n"
      ],
      "metadata": {
        "colab": {
          "base_uri": "https://localhost:8080/"
        },
        "id": "4AE5_zdW6T9A",
        "outputId": "9514a49b-eac9-4c1c-a535-4a506b3a53cf"
      },
      "execution_count": 21,
      "outputs": [
        {
          "output_type": "stream",
          "name": "stdout",
          "text": [
            "\n",
            "<!doctype html>\n",
            "<html>\n",
            "<head>\n",
            "    <title>Red</title>\n",
            "    <link rel=\"stylesheet\" type=\"text/css\" href=\"//maxcdn.bootstrapcdn.com/bootstrap/3.3.5/css/bootstrap.min.css\">\n",
            "\t<style>body {background-color: red;}</style>\n",
            "</head>\n",
            "\t<body>\n",
            "\t\t<div class=\"container\">\n",
            "\t\t\t<div class=\"row\">\n",
            "\t\t\t\t<div class=\"col-md-6\">\n",
            "\t\t\t\t\t<div class=\"panel panel-primary\" style=\"margin-top:50px\">\n",
            "\t\t\t\t\t\t<div class=\"panel-heading\">\n",
            "\t\t\t\t\t\t\t<h3 class=\"panel-title\" style=\"color:red\">Red</h3>\n",
            "\t\t\t\t\t\t</div>\n",
            "\t\t\t\t\t\t<div class=\"panel-body\">\n",
            "\t\t\t\t\t\t\t<form action=\"index.php\" method=\"GET\">\n",
            "\t\t\t\t\t\t\t\t<input type=\"submit\" value=\"Choose Red\"/>\n",
            "\t\t\t\t\t\t\t</form>\n",
            "\t\t\t\t\t\t</div>\n",
            "\t\t\t\t\t</div>\n",
            "\t\t\t\t</div>\n",
            "\t\t\t\t<div class=\"col-md-6\">\n",
            "\t\t\t\t\t<div class=\"panel panel-primary\" style=\"margin-top:50px\">\n",
            "\t\t\t\t\t\t<div class=\"panel-heading\">\n",
            "\t\t\t\t\t\t\t<h3 class=\"panel-title\" style=\"color:blue\">Blue</h3>\n",
            "\t\t\t\t\t\t</div>\n",
            "\t\t\t\t\t\t<div class=\"panel-body\">\n",
            "\t\t\t\t\t\t\t<form action=\"index.php\" method=\"POST\">\n",
            "\t\t\t\t\t\t\t\t<input type=\"submit\" value=\"Choose Blue\"/>\n",
            "\t\t\t\t\t\t\t</form>\n",
            "\t\t\t\t\t\t</div>\n",
            "\t\t\t\t\t</div>\n",
            "\t\t\t\t</div>\n",
            "\t\t\t</div>\n",
            "\t\t</div>\n",
            "\t</body>\n",
            "</html>\n",
            "\n"
          ]
        }
      ]
    },
    {
      "cell_type": "code",
      "source": [
        "!curl -I Head http://mercury.picoctf.net:28916/"
      ],
      "metadata": {
        "colab": {
          "base_uri": "https://localhost:8080/"
        },
        "id": "CirCGCA-6lPX",
        "outputId": "9e40733c-e36b-41ff-cfea-830727b05a85"
      },
      "execution_count": 24,
      "outputs": [
        {
          "output_type": "stream",
          "name": "stdout",
          "text": [
            "curl: (6) Could not resolve host: Head\n",
            "HTTP/1.1 200 OK\r\n",
            "\u001b[1mflag\u001b[0m: picoCTF{r3j3ct_th3_du4l1ty_70bc61c4}\r\n",
            "\u001b[1mContent-type\u001b[0m: text/html; charset=UTF-8\r\n",
            "\r\n"
          ]
        }
      ]
    }
  ]
}