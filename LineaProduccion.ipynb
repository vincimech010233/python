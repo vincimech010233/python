{
  "nbformat": 4,
  "nbformat_minor": 0,
  "metadata": {
    "colab": {
      "provenance": [],
      "authorship_tag": "ABX9TyNInDBh6J+jiuNWDyJIaOA/",
      "include_colab_link": true
    },
    "kernelspec": {
      "name": "python3",
      "display_name": "Python 3"
    },
    "language_info": {
      "name": "python"
    }
  },
  "cells": [
    {
      "cell_type": "markdown",
      "metadata": {
        "id": "view-in-github",
        "colab_type": "text"
      },
      "source": [
        "<a href=\"https://colab.research.google.com/github/vincimech010233/python/blob/master/LineaProduccion.ipynb\" target=\"_parent\"><img src=\"https://colab.research.google.com/assets/colab-badge.svg\" alt=\"Open In Colab\"/></a>"
      ]
    },
    {
      "cell_type": "code",
      "execution_count": null,
      "metadata": {
        "id": "U4OlyVcnFQA1"
      },
      "outputs": [],
      "source": [
        "!pip install simpy\n"
      ]
    },
    {
      "cell_type": "code",
      "source": [
        "import simpy\n",
        "\n",
        "def planta(env, nombre, tiempo_produccion):\n",
        "    contador_produccion = 0\n",
        "    while True:\n",
        "        contador_produccion += 1\n",
        "        print(f\"{nombre} inició la producción {contador_produccion} en el tiempo {env.now}\")\n",
        "        yield env.timeout(tiempo_produccion)\n",
        "        print(f\"{nombre} terminó la producción {contador_produccion} en el tiempo {env.now}\")\n",
        "\n",
        "# Crear un entorno de simulación\n",
        "env = simpy.Environment()\n",
        "\n",
        "# Crear dos líneas de producción con diferentes tiempos de producción\n",
        "env.process(planta(env, 'Línea 1', 5))\n",
        "env.process(planta(env, 'Línea 2', 8))\n",
        "\n",
        "# Ejecutar la simulación por un tiempo determinado\n",
        "env.run(until=30)\n"
      ],
      "metadata": {
        "id": "G3c_a8ceI8iq"
      },
      "execution_count": null,
      "outputs": []
    }
  ]
}