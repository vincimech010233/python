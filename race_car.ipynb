{
  "nbformat": 4,
  "nbformat_minor": 0,
  "metadata": {
    "colab": {
      "provenance": [],
      "authorship_tag": "ABX9TyPOZQ8nht9roJYjNp3VPu1S",
      "include_colab_link": true
    },
    "kernelspec": {
      "name": "python3",
      "display_name": "Python 3"
    },
    "language_info": {
      "name": "python"
    }
  },
  "cells": [
    {
      "cell_type": "markdown",
      "metadata": {
        "id": "view-in-github",
        "colab_type": "text"
      },
      "source": [
        "<a href=\"https://colab.research.google.com/github/vincimech010233/python/blob/master/race_car.ipynb\" target=\"_parent\"><img src=\"https://colab.research.google.com/assets/colab-badge.svg\" alt=\"Open In Colab\"/></a>"
      ]
    },
    {
      "cell_type": "code",
      "source": [
        "import random\n",
        "import time"
      ],
      "metadata": {
        "id": "1udLuDbOWPit"
      },
      "execution_count": 2,
      "outputs": []
    },
    {
      "cell_type": "code",
      "source": [
        "# Función para crear una pista con árboles colocados aleatoriamente\n",
        "def crear_pista(longitud, num_arboles):\n",
        "    # Inicializar la pista con guiones bajos\n",
        "    pista = ['_'] * longitud\n",
        "    arboles_colocados = 0\n",
        "\n",
        "    # Colocar árboles en posiciones aleatorias en la pista\n",
        "    while arboles_colocados < num_arboles:\n",
        "        arbol_pos = random.randint(0, longitud - 1)\n",
        "        # Asegurarse de no colocar dos árboles en la misma posición\n",
        "        if pista[arbol_pos] != '🌲':\n",
        "            pista[arbol_pos] = '🌲'\n",
        "            arboles_colocados += 1\n",
        "\n",
        "    return pista"
      ],
      "metadata": {
        "id": "oqhqy4usWS7P"
      },
      "execution_count": 3,
      "outputs": []
    },
    {
      "cell_type": "code",
      "source": [
        "# Función para imprimir el estado actual de las pistas\n",
        "def imprimir_pistas(pista1, pista2, pos1, pos2):\n",
        "    # Crear copias de las pistas para modificarlas temporalmente\n",
        "    pista1_actual = pista1.copy()\n",
        "    pista2_actual = pista2.copy()\n",
        "\n",
        "    # Colocar los coches en las pistas según sus posiciones actuales\n",
        "    if pos1 >= 0:\n",
        "        pista1_actual[pos1] = '🚙'\n",
        "    if pos2 >= 0:\n",
        "        pista2_actual[pos2] = '🚗'\n",
        "\n",
        "    # Imprimir las pistas con la meta al principio\n",
        "    print('🏁' + ''.join(pista1_actual))\n",
        "    print('🏁' + ''.join(pista2_actual))"
      ],
      "metadata": {
        "id": "skJdPIVlWV2E"
      },
      "execution_count": 4,
      "outputs": []
    },
    {
      "cell_type": "code",
      "source": [
        "# Función para simular la carrera\n",
        "def simular_carrera(longitud_pista):\n",
        "    # Crear dos pistas con árboles\n",
        "    pista1 = crear_pista(longitud_pista, random.randint(1, 3))\n",
        "    pista2 = crear_pista(longitud_pista, random.randint(1, 3))\n",
        "\n",
        "    # Inicializar las posiciones de los coches al final de las pistas\n",
        "    pos1, pos2 = longitud_pista - 1, longitud_pista - 1\n",
        "    # Variables para controlar si los coches están detenidos por un árbol\n",
        "    turno_detenido1, turno_detenido2 = False, False\n",
        "    fin_carrera = False\n",
        "\n",
        "    # Bucle para simular cada turno de la carrera\n",
        "    while not fin_carrera:\n",
        "        # Mover el primer coche si no está detenido\n",
        "        if not turno_detenido1:\n",
        "            avance1 = random.randint(1, 3)\n",
        "            pos1 = max(0, pos1 - avance1)\n",
        "            # Detener el coche si choca con un árbol\n",
        "            if pista1[pos1] == '🌲':\n",
        "                turno_detenido1 = True\n",
        "        else:\n",
        "            turno_detenido1 = False\n",
        "\n",
        "        # Mover el segundo coche si no está detenido\n",
        "        if not turno_detenido2:\n",
        "            avance2 = random.randint(1, 3)\n",
        "            pos2 = max(0, pos2 - avance2)\n",
        "            # Detener el coche si choca con un árbol\n",
        "            if pista2[pos2] == '🌲':\n",
        "                turno_detenido2 = True\n",
        "        else:\n",
        "            turno_detenido2 = False\n",
        "\n",
        "        # Imprimir el estado actual de las pistas\n",
        "        imprimir_pistas(pista1, pista2, pos1, pos2)\n",
        "        # Pausar un segundo para simular el tiempo de turno\n",
        "        time.sleep(1)\n",
        "\n",
        "        # Verificar si alguno de los coches ha llegado a la meta\n",
        "        if pos1 == 0 or pos2 == 0:\n",
        "            fin_carrera = True\n",
        "\n",
        "    # Determinar el resultado de la carrera\n",
        "    if pos1 == 0 and pos2 == 0:\n",
        "        print(\"¡Empate!\")\n",
        "    elif pos1 == 0:\n",
        "        print(\"¡Gana el coche 🚙!\")\n",
        "    else:\n",
        "        print(\"¡Gana el coche 🚗!\")"
      ],
      "metadata": {
        "id": "0Z-p98spWYlP"
      },
      "execution_count": 5,
      "outputs": []
    },
    {
      "cell_type": "code",
      "execution_count": 7,
      "metadata": {
        "colab": {
          "base_uri": "https://localhost:8080/"
        },
        "id": "TOxzlHfwWHbC",
        "outputId": "eae5d355-83cd-4c24-b035-7a075e81fed9"
      },
      "outputs": [
        {
          "output_type": "stream",
          "name": "stdout",
          "text": [
            "🏁_🌲___🌲🚙___\n",
            "🏁__🌲_____🚗_\n",
            "🏁_🌲___🚙____\n",
            "🏁__🌲__🚗____\n",
            "🏁_🌲___🚙____\n",
            "🏁__🌲🚗______\n",
            "🏁_🌲_🚙_🌲____\n",
            "🏁_🚗🌲_______\n",
            "🏁🚙🌲___🌲____\n",
            "🏁🚗_🌲_______\n",
            "¡Empate!\n"
          ]
        }
      ],
      "source": [
        "# Ejecutar la carrera con una longitud de pista especificada\n",
        "longitud_pista = 10\n",
        "simular_carrera(longitud_pista)\n"
      ]
    }
  ]
}